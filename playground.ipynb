{
 "cells": [
  {
   "cell_type": "markdown",
   "id": "c1c81f85-8be5-455f-914a-9e5c6ad43894",
   "metadata": {},
   "source": [
    "# OpenSkiStats Playground"
   ]
  },
  {
   "cell_type": "code",
   "execution_count": 1,
   "id": "a8c2e3f7",
   "metadata": {},
   "outputs": [],
   "source": [
    "%load_ext autoreload\n",
    "%autoreload 2\n",
    "%config InlineBackend.figure_formats = ['svg']"
   ]
  },
  {
   "cell_type": "code",
   "execution_count": null,
   "id": "ced58fd3-273b-4479-b60b-306b63c90efe",
   "metadata": {},
   "outputs": [],
   "source": [
    "import plotly.express as px\n",
    "import polars as pl\n",
    "\n",
    "import openskistats.analyze\n",
    "import openskistats.plot\n",
    "import openskistats.utils"
   ]
  },
  {
   "cell_type": "code",
   "execution_count": null,
   "id": "e2f44dcb",
   "metadata": {},
   "outputs": [],
   "source": [
    "ski_areas_pl = openskistats.analyze.load_ski_areas_pl()\n",
    "bearing_dists_pl = openskistats.analyze.load_bearing_distribution_pl()"
   ]
  },
  {
   "cell_type": "code",
   "execution_count": 5,
   "id": "2ba46900",
   "metadata": {},
   "outputs": [],
   "source": [
    "new_england_ski_area_df = (\n",
    "    ski_areas_pl.filter(pl.col(\"status\") == \"operating\")\n",
    "    .filter(pl.col(\"ski_area_name\").is_not_null())\n",
    "    .filter(pl.col(\"country\") == \"United States\")\n",
    "    .filter(\n",
    "        pl.col(\"region\").is_in([\"New Hampshire\", \"Vermont\", \"Maine\", \"Massachusetts\"])\n",
    "    )\n",
    "    .filter(pl.col(\"run_count_filtered\") > 0)\n",
    "    .filter(pl.col(\"run_count_filtered\") > 10)\n",
    ")"
   ]
  },
  {
   "cell_type": "code",
   "execution_count": null,
   "id": "d9861659",
   "metadata": {},
   "outputs": [],
   "source": [
    "openskistats.plot.subplot_orientations(\n",
    "    groups_pl=new_england_ski_area_df.filter(pl.col(\"region\") == \"New Hampshire\"),\n",
    "    grouping_col=\"ski_area_name\",\n",
    "    n_cols=5,\n",
    "    free_y=True,\n",
    ")"
   ]
  },
  {
   "cell_type": "code",
   "execution_count": null,
   "id": "a0f71e9d",
   "metadata": {},
   "outputs": [],
   "source": [
    "openskistats.plot.subplot_orientations(\n",
    "    groups_pl=new_england_ski_area_df.filter(pl.col(\"region\") == \"Vermont\"),\n",
    "    grouping_col=\"ski_area_name\",\n",
    "    n_cols=5,\n",
    "    free_y=True,\n",
    ")"
   ]
  },
  {
   "cell_type": "code",
   "execution_count": null,
   "id": "adb0fd03",
   "metadata": {},
   "outputs": [],
   "source": [
    "px.scatter_polar(\n",
    "    data_frame=new_england_ski_area_df.rename({\"region\": \"state\"}),\n",
    "    r=\"bearing_alignment\",\n",
    "    theta=\"bearing_mean\",\n",
    "    size=\"combined_vertical\",\n",
    "    hover_name=\"ski_area_name\",\n",
    "    hover_data=[\"run_count_filtered\"],\n",
    "    color=\"state\",\n",
    "    range_r=[0, 1],\n",
    "    width=800,\n",
    "    height=800,\n",
    ")"
   ]
  },
  {
   "cell_type": "code",
   "execution_count": null,
   "id": "ddaec156",
   "metadata": {},
   "outputs": [],
   "source": [
    "openskistats.analyze.bearing_dists_by_hemisphere().select(\n",
    "    \"hemisphere\", \"bearings\"\n",
    ").explode(\"bearings\").unnest(\"bearings\").filter(pl.col(\"num_bins\") == 2)"
   ]
  },
  {
   "cell_type": "code",
   "execution_count": null,
   "id": "92f6ad26",
   "metadata": {},
   "outputs": [],
   "source": [
    "ski_areas_pl.get_column(\"status\").value_counts()"
   ]
  },
  {
   "cell_type": "code",
   "execution_count": null,
   "id": "11771272",
   "metadata": {},
   "outputs": [],
   "source": [
    "ski_areas_pl.get_column(\"runConvention\").value_counts()"
   ]
  }
 ],
 "metadata": {
  "kernelspec": {
   "display_name": "ski-bearings-cIphqNWs-py3.12",
   "language": "python",
   "name": "python3"
  },
  "language_info": {
   "codemirror_mode": {
    "name": "ipython",
    "version": 3
   },
   "file_extension": ".py",
   "mimetype": "text/x-python",
   "name": "python",
   "nbconvert_exporter": "python",
   "pygments_lexer": "ipython3",
   "version": "3.12.7"
  }
 },
 "nbformat": 4,
 "nbformat_minor": 5
}
