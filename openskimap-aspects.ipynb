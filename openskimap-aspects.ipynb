{
 "cells": [
  {
   "cell_type": "markdown",
   "id": "c1c81f85-8be5-455f-914a-9e5c6ad43894",
   "metadata": {},
   "source": [
    "# Ski Bearing Playground\n",
    "\n",
    "- https://geoffboeing.com/2018/07/comparing-city-street-orientations/\n",
    "- groomed v ungroomed\n",
    "- https://github.com/tilezen/joerd\n",
    "- trail orientation v aspect\n",
    "- weight by elevation descent\n",
    "- max slope v difficulty by region\n",
    "- https://osmnx.readthedocs.io/en/stable/internals-reference.html-osmnx-bearing-module\n",
    "- https://stackoverflow.com/questions/54873868/python-calculate-bearing-between-two-lat-long\n",
    "- https://github.com/gboeing/osmnx/blob/cabdbb246dc14095f5d8e8b8ead38f9649dae2c7/osmnx/bearing.py#L18\n"
   ]
  },
  {
   "cell_type": "code",
   "execution_count": 1,
   "id": "a8c2e3f7",
   "metadata": {},
   "outputs": [],
   "source": [
    "%load_ext autoreload\n",
    "%autoreload 2\n",
    "%config InlineBackend.figure_formats = ['svg']"
   ]
  },
  {
   "cell_type": "code",
   "execution_count": 2,
   "id": "ced58fd3-273b-4479-b60b-306b63c90efe",
   "metadata": {},
   "outputs": [],
   "source": [
    "import plotly.express as px\n",
    "import polars as pl\n",
    "\n",
    "import ski_bearings.analyze\n",
    "import ski_bearings.plot\n",
    "import ski_bearings.utils"
   ]
  },
  {
   "cell_type": "code",
   "execution_count": 4,
   "id": "e2f44dcb",
   "metadata": {},
   "outputs": [],
   "source": [
    "ski_areas_pl = ski_bearings.analyze.load_ski_areas_pl()\n",
    "bearing_dists_pl = ski_bearings.analyze.load_bearing_distribution_pl()"
   ]
  },
  {
   "cell_type": "code",
   "execution_count": null,
   "id": "b1c50dec",
   "metadata": {},
   "outputs": [],
   "source": [
    "import reactable\n",
    "\n",
    "from ski_bearings.analyze import get_ski_area_reactable\n",
    "\n",
    "reactable.embed_css()\n",
    "\n",
    "get_ski_area_reactable()"
   ]
  },
  {
   "cell_type": "code",
   "execution_count": 4,
   "id": "2ba46900",
   "metadata": {},
   "outputs": [],
   "source": [
    "new_england_ski_area_df = (\n",
    "    ski_areas_pl.filter(pl.col(\"status\") == \"operating\")\n",
    "    .filter(pl.col(\"ski_area_name\").is_not_null())\n",
    "    .filter(pl.col(\"location__localized__en__country\") == \"United States\")\n",
    "    .filter(\n",
    "        pl.col(\"location__localized__en__region\").is_in(\n",
    "            [\"New Hampshire\", \"Vermont\", \"Maine\", \"Massachusetts\"]\n",
    "        )\n",
    "    )\n",
    "    .filter(pl.col(\"run_count_filtered\") > 0)\n",
    "    .filter(pl.col(\"run_count_filtered\") > 10)\n",
    ")"
   ]
  },
  {
   "cell_type": "code",
   "execution_count": null,
   "id": "d9861659",
   "metadata": {},
   "outputs": [],
   "source": [
    "ski_bearings.plot.subplot_orientations(\n",
    "    groups_pl=new_england_ski_area_df.filter(\n",
    "        pl.col(\"location__localized__en__region\") == \"New Hampshire\"\n",
    "    ),\n",
    "    grouping_col=\"ski_area_name\",\n",
    "    n_cols=5,\n",
    "    free_y=True,\n",
    ")"
   ]
  },
  {
   "cell_type": "code",
   "execution_count": null,
   "id": "a0f71e9d",
   "metadata": {},
   "outputs": [],
   "source": [
    "ski_bearings.plot.subplot_orientations(\n",
    "    groups_pl=new_england_ski_area_df.filter(\n",
    "        pl.col(\"location__localized__en__region\") == \"Vermont\"\n",
    "    ),\n",
    "    grouping_col=\"ski_area_name\",\n",
    "    n_cols=5,\n",
    "    free_y=True,\n",
    ")"
   ]
  },
  {
   "cell_type": "code",
   "execution_count": null,
   "id": "adb0fd03",
   "metadata": {},
   "outputs": [],
   "source": [
    "px.scatter_polar(\n",
    "    data_frame=new_england_ski_area_df.rename(\n",
    "        {\"location__localized__en__region\": \"state\"}\n",
    "    ),\n",
    "    r=\"mean_bearing_strength\",\n",
    "    theta=\"mean_bearing\",\n",
    "    size=\"combined_vertical\",\n",
    "    hover_name=\"ski_area_name\",\n",
    "    hover_data=[\"run_count_filtered\", \"run_count\"],\n",
    "    color=\"state\",\n",
    "    range_r=[0, 1],\n",
    "    width=800,\n",
    "    height=800,\n",
    ")"
   ]
  },
  {
   "cell_type": "code",
   "execution_count": null,
   "id": "ddaec156",
   "metadata": {},
   "outputs": [],
   "source": [
    "ski_bearings.analyze.bearing_dists_by_hemisphere().select(\n",
    "    \"hemisphere\", \"bearings\"\n",
    ").explode(\"bearings\").unnest(\"bearings\").filter(pl.col(\"num_bins\") == 2)"
   ]
  },
  {
   "cell_type": "code",
   "execution_count": null,
   "id": "92f6ad26",
   "metadata": {},
   "outputs": [],
   "source": [
    "ski_areas_pl.get_column(\"status\").value_counts()"
   ]
  },
  {
   "cell_type": "code",
   "execution_count": null,
   "id": "11771272",
   "metadata": {},
   "outputs": [],
   "source": [
    "ski_areas_pl.get_column(\"runConvention\").value_counts()"
   ]
  }
 ],
 "metadata": {
  "kernelspec": {
   "display_name": "ski-bearings-cIphqNWs-py3.12",
   "language": "python",
   "name": "python3"
  },
  "language_info": {
   "codemirror_mode": {
    "name": "ipython",
    "version": 3
   },
   "file_extension": ".py",
   "mimetype": "text/x-python",
   "name": "python",
   "nbconvert_exporter": "python",
   "pygments_lexer": "ipython3",
   "version": "3.12.7"
  }
 },
 "nbformat": 4,
 "nbformat_minor": 5
}
