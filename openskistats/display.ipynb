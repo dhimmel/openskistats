{
 "cells": [
  {
   "cell_type": "markdown",
   "metadata": {},
   "source": [
    "# [OpenSkiStats Ski Area Browser](#)\n",
    "\n",
    "Explore statistics on all named ski areas in the world with at least 3 runs and 50 meters of cumulative vertical drop across their runs.\n",
    "The underlying data is provided by [OpenSkiMap](https://openskimap.org) and [OpenStreetMap](https://www.openstreetmap.org) with statistics computed by <https://github.com/dhimmel/openskistats>.\n",
    "\n",
    "This project is currently under heavy development and is not yet ready for public consumption."
   ]
  },
  {
   "cell_type": "code",
   "execution_count": null,
   "metadata": {},
   "outputs": [],
   "source": [
    "%load_ext autoreload\n",
    "%autoreload 2"
   ]
  },
  {
   "cell_type": "code",
   "execution_count": null,
   "metadata": {},
   "outputs": [],
   "source": [
    "from openskistats.display import embed_reactable_html, get_ski_area_reactable"
   ]
  },
  {
   "cell_type": "code",
   "execution_count": null,
   "metadata": {},
   "outputs": [],
   "source": [
    "embed_reactable_html()\n",
    "get_ski_area_reactable()"
   ]
  }
 ],
 "metadata": {
  "kernelspec": {
   "display_name": "ski-bearings-cIphqNWs-py3.12",
   "language": "python",
   "name": "python3"
  },
  "language_info": {
   "codemirror_mode": {
    "name": "ipython",
    "version": 3
   },
   "file_extension": ".py",
   "mimetype": "text/x-python",
   "name": "python",
   "nbconvert_exporter": "python",
   "pygments_lexer": "ipython3",
   "version": "3.12.7"
  }
 },
 "nbformat": 4,
 "nbformat_minor": 2
}
